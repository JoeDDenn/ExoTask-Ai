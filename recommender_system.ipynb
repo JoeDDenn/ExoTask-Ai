{
 "cells": [
  {
   "cell_type": "code",
   "execution_count": null,
   "metadata": {},
   "outputs": [],
   "source": [
    "import pandas as pd\n",
    "df = pd.read_csv('data.csv')\n",
    "df\n",
    "import neattext.functions as nf\n",
    "user_desc = input(\"enter your description\")"
   ]
  },
  {
   "cell_type": "code",
   "execution_count": null,
   "metadata": {},
   "outputs": [],
   "source": [
    "df.loc[len(df.index)] = [ 999999,'',user_desc]"
   ]
  },
  {
   "cell_type": "code",
   "execution_count": null,
   "metadata": {},
   "outputs": [],
   "source": [
    "df.drop_duplicates(inplace=True)\n",
    "df"
   ]
  },
  {
   "cell_type": "code",
   "execution_count": null,
   "metadata": {},
   "outputs": [],
   "source": [
    "l = len(df.index)\n",
    "x = pd.Series(data=range(11604))\n",
    "df.sort_index()"
   ]
  },
  {
   "cell_type": "code",
   "execution_count": null,
   "metadata": {},
   "outputs": [],
   "source": [
    "df.drop(df[df['description'].isna() == True].index, axis=0,inplace=True)\n",
    "df['clean_desc'] = df['description'].apply(nf.remove_stopwords)\n",
    "df['clean_desc'] = df['description'].apply(nf.remove_special_characters)\n",
    "from sklearn.feature_extraction.text import CountVectorizer\n",
    "cv = CountVectorizer()\n",
    "cv_m = cv.fit_transform(df['clean_desc'])\n",
    "cv_m.toarray()\n",
    "df_cv_m = pd.DataFrame(cv_m.toarray(),columns= cv.get_feature_names_out())\n",
    "df_cv_m\n",
    "from sklearn.metrics.pairwise import cosine_similarity\n",
    "cos_sim_m = cosine_similarity(cv_m)\n",
    "cos_sim_m\n",
    "desc_index = pd.Series(df.index, index= df['description']).drop_duplicates()\n",
    "desc_index"
   ]
  },
  {
   "cell_type": "code",
   "execution_count": null,
   "metadata": {},
   "outputs": [],
   "source": [
    "index = len(desc_index) - 1\n",
    "index\n"
   ]
  },
  {
   "cell_type": "code",
   "execution_count": null,
   "metadata": {},
   "outputs": [],
   "source": [
    "cos_sim_m[index]\n",
    "scores = list(enumerate(cos_sim_m[index]))\n",
    "scores\n",
    "sorted_score = sorted(scores, key= lambda x:x[1], reverse=True)\n",
    "sorted_score\n",
    "sorted_score[:5]"
   ]
  },
  {
   "cell_type": "code",
   "execution_count": null,
   "metadata": {},
   "outputs": [],
   "source": [
    "sorted_indices = [i[0] for i in sorted_score[1:]]\n",
    "sorted_indices\n",
    "sorted_values = [i[1] for i in sorted_score[1:]]\n",
    "sorted_values\n",
    "recommeded = df.iloc[sorted_indices]\n",
    "recommeded"
   ]
  },
  {
   "cell_type": "code",
   "execution_count": null,
   "metadata": {},
   "outputs": [],
   "source": [
    "import numpy as np\n",
    "recommeded['similarity_score'] = np.array(sorted_values)\n",
    "recommeded\n",
    "recommeded[['similarity_score','Url','description']]"
   ]
  }
 ],
 "metadata": {
  "kernelspec": {
   "display_name": "Python 3",
   "language": "python",
   "name": "python3"
  },
  "language_info": {
   "codemirror_mode": {
    "name": "ipython",
    "version": 3
   },
   "file_extension": ".py",
   "mimetype": "text/x-python",
   "name": "python",
   "nbconvert_exporter": "python",
   "pygments_lexer": "ipython3",
   "version": "3.10.10"
  },
  "orig_nbformat": 4,
  "vscode": {
   "interpreter": {
    "hash": "ca837059a2452f07b074b54cd9bc34fee030c30dec4a709a5daa6dc5b861c658"
   }
  }
 },
 "nbformat": 4,
 "nbformat_minor": 2
}
